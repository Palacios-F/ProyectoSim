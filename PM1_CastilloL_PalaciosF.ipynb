{
 "cells": [
  {
   "attachments": {},
   "cell_type": "markdown",
   "metadata": {},
   "source": [
    "# Optimización de la riqueza de una empresa\n",
    "\n",
    "### 1.1 Trabajo\n",
    "\n",
    "El siguiente trabajo pone en practica los conocimientos vistos en la materia de simulación matematica y resolver un problema de programación lineal, esto a través de un problema donde se optimiza la riqueza  de una compañia a partir de las necesidades de efectivo a través del tiempo. \n",
    "\n",
    "### 1.2 Objetivos.\n",
    "> #### 1.1 Objetivo general.\n",
    "> Encontrar la solución que maximize la riqueza de la compañia\n",
    "> #### 1.2 Objetivos específicos\n",
    ">  - Formular adecuadamente el modelo que represente el problema.\n",
    ">  - Definir el problema de forma matricial.\n",
    ">  - Utilizar las librerias de Python para encontrar la solución óptima."
   ]
  },
  {
   "attachments": {},
   "cell_type": "markdown",
   "metadata": {},
   "source": [
    "### 1.3 Modelo que representa el problema.\n",
    "\n",
    "#### Problema\n",
    "Una empresa tendrá los siguientes movimientos de efectivo en los próximos ocho trimestres. Las entradas positivas representan obligaciones, mientras que las entradas negativas representan excedentes de efectivo.    \n",
    "\n",
    "\n",
    "|Q1|Q2|Q3|Q4|Q5|Q6|Q7|Q8\n",
    "| -- | -- | -- | -- | -- | -- | -- | -- |\n",
    "| 100 | 500 | 100 | -600 | -500 | 200 | 600 | -900 |  \n",
    "\n",
    "La empresa tiene 3 opciones de préstamo:\n",
    "- Un préstamo a 2 años disponible a principios del primer trimestre, con un interés del 1% por trimestre.\n",
    "- Un préstamo a 6 meses  disponible cada trimestre con un interés del 1.8% por trimestre \n",
    "- Un préstamo trimestral disponible cada trimestre con un interés del 2.5% para el trimestre.\n",
    "\n",
    "Cualquier excedente se puede invertir a un interés del 0,5% por trimestre."
   ]
  },
  {
   "cell_type": "markdown",
   "metadata": {},
   "source": [
    "#### Variables de decisión\n",
    "Para las variables de decisión se escogió denotarlas de la siguiente manera:  \n",
    "$x$ la cantidad de dinero pedido a través del prestamo de 2 años  \n",
    "$y_i$ la cantidad de dinero pedido a traves del instrumento de 6 meses pedido en el trimestre $i$    \n",
    "$w_i$ la cantidad de dinero pedido a traves del intrumento ded 3 meses pedido en el trimestre $i$  \n",
    "$z_i$ la cantidad de dinero excedente reinvertido en el trimestre $i$  \n",
    "$v$ la riqueza de la compañia en el 8vo trimestre  "
   ]
  },
  {
   "cell_type": "markdown",
   "metadata": {},
   "source": [
    "#### Función objetivo\n",
    "Se desea optimizar la riqueza de la compañía en el ultimo trimestre de los flujos presentados  \n",
    "$$\\max_{x,y_1,z_1...z_7,v}v$$"
   ]
  },
  {
   "cell_type": "markdown",
   "metadata": {},
   "source": [
    "#### Flujos de efectivo / restricciones\n",
    "**Q1**\n",
    "$$x+y_1+w_1-z_1=100$$\n",
    "**Q2**  \n",
    "$$y_2+w_2-0.135x-0.518y_1-1.025w_1-z_2+1.005z_1=500$$\n",
    "**Q3**\n",
    "$$y_3+w_3-0.135x-0.518y_1-0.518y_2-1.025w_2-z_3+1.005z_2=100$$\n",
    "**Q4**\n",
    "$$y_4+w_4-0.135x--0.518y_2-0.518y_3-1.025w_3-z_4+1.005z_3=-600$$\n",
    "**Q5**  \n",
    "$$y_5+w_5-0.135x-0.518y_3-0.518y_4-1.025w_4-z_5+1.005z_4=-500$$\n",
    "**Q6**  \n",
    "$$y_6+w_6-0.135x-0.518y_4-0.518y_5-1.025w_5-z_6+1.005z_5=200$$\n",
    "**Q7**  \n",
    "$$y_7+w_7-0.135x-0.518y_5-0.518y_6-1.025w_6-z_7+1.005z_6=600$$\n",
    "**Q8**  \n",
    "$$y_8+w_8-0.135x-0.518y_6-0.518y_7-1.025w_7-z_8+1.005z_7=-900$$\n",
    "**Q9**  \n",
    "$$-0.518y_7-0.518y_8-1.025w_8+1.005z_8=v$$\n",
    "\n",
    "De forma matricial el problema queda de la siguiente forma: \n",
    "$$\\left[\\begin{array}{cc}1 & 1 & 0 & 0 & 0 & 0 & 0 & 0 & 0 & 1 & 0 & 0 & 0 & 0 & 0 & 0 & 0 & -1 & 0 & 0 & 0 & 0 & 0 & 0 &0 &0\\\\\n",
    "-0.135 & -0.518 & 1 & 0 & 0 & 0 & 0 & 0 & 0 & -1.025 & 1 & 0 & 0 & 0 & 0 & 0 & 0 & 1.005 & -1 & 0 & 0 & 0 & 0 & 0 & 0 & 0\\\\\n",
    "-0.135 & -0.518 & -0.518 & 1 & 0 & 0 & 0 & 0 & 0 & 0 & -1.025 & 1 & 0 & 0 & 0 & 0 & 0 & 0 & 1.005 & -1 & 0 & 0 & 0 & 0 & 0& 0\\\\\n",
    "-0.135 & 0 & -0.518 & -0.518 & 1 & 0 & 0 & 0 & 0 & 0 & 0 & -1.025 & 1 & 0 & 0 & 0 & 0 & 0 & 0 & 1.005 & -1 & 0 & 0 & 0 & 0& 0\\\\\n",
    "-0.135 & 0 & 0 & -0.518 & -0.518 & 1 & 0 & 0 & 0 & 0 & 0 & 0 & -1.025 & 1 & 0 & 0 & 0 & 0 & 0 & 0 & 1.005 & -1 & 0 & 0 & 0& 0\\\\\n",
    "-0.135 & 0 & 0 & 0 & -0.518 & -0.518 & 1 & 0 & 0 & 0 & 0 & 0 & 0 & -1.025 & 1 & 0 & 0 & 0 & 0 & 0 & 0 & 1.005 & -1 & 0 & 0& 0\\\\\n",
    "-0.135 & 0 & 0 & 0 & 0 & -0.518 & -0.518 & 1 & 0 & 0 & 0 & 0 & 0 & 0 & -1.025 & 1 & 0 & 0 & 0 & 0 & 0 & 0 & 1.005 & -1 & 0& 0\\\\\n",
    "-0.135 & 0 & 0 & 0 & 0 & 0 & -0.518 & -0.518 & 1 & 0 & 0 & 0 & 0 & 0 & 0 & -1.025 & 1 & 0 & 0 & 0 & 0 & 0 & 0 & 1.005 &-1& 0\\\\\n",
    "0 & 0 & 0 & 0 & 0 & 0 & 0 & -0.518 & -0.518 & 0 & 0 & 0 & 0 & 0 & 0 & 0 & -1.025 & 0 & 0 & 0 & 0 & 0 & 0 & 0 &1.005&-1 \\end{array}\\right] \\left[\\begin{array}{cc}x\\\\y_1\\\\y_2\\\\y_3\\\\y_4\\\\y_5\\\\y_6\\\\y_7\\\\y_8\\\\w_1\\\\w_2\\\\w_3\\\\w_4\\\\w_5\\\\w_6\\\\w_7\\\\w_8\\\\z_1\\\\z_2\\\\z_3\\\\z_4\\\\z_5\\\\z_6\\\\z_7\\\\z_8\\\\v\\end{array}\\right]=\\left[\\begin{array}{cc}100\\\\500\\\\100\\\\-600\\\\-500\\\\200\\\\600\\\\-900\\end{array}\\right]$$\n"
   ]
  },
  {
   "cell_type": "markdown",
   "metadata": {},
   "source": [
    "### 1.4 Solución del problema de optimización."
   ]
  },
  {
   "cell_type": "code",
   "execution_count": 1,
   "metadata": {},
   "outputs": [],
   "source": [
    "#Importar las librerías para poder resolver el problema\n",
    "import numpy as np\n",
    "import scipy.optimize as opt"
   ]
  },
  {
   "cell_type": "code",
   "execution_count": 2,
   "metadata": {},
   "outputs": [],
   "source": [
    "#Las matrices que representan el problema\n",
    "\n",
    "c = np.array([0,0,0,0,0,0,0,0,0,0,0,0,0,0,0,0,0,0,0,0,0,0,0,0,0,-1])\n",
    "A = np.array([[1,1,0,0,0,0,0,0,0,1,0,0,0,0,0,0,0,-1,0,0,0,0,0,0,0,0],\n",
    "[-0.135,-0.518,1,0,0,0,0,0,0,-1.025,1,0,0,0,0,0,0,1.005,-1,0,0,0,0,0,0,0],\n",
    "[-0.135,-0.518,-0.518,1,0,0,0,0,0,0,-1.025,1,0,0,0,0,0,0,1.005,-1,0,0,0,0,0,0],\n",
    "[-0.135,0,-0.518,-0.518,1,0,0,0,0,0,0,-1.025,1,0,0,0,0,0,0,1.005,-1,0,0,0,0,0],\n",
    "[-0.135,0,0,-0.518,-0.518,1,0,0,0,0,0,0,-1.025,1,0,0,0,0,0,0,1.005,-1,0,0,0,0],\n",
    "[-0.135,0,0,0,-0.518,-0.518,1,0,0,0,0,0,0,-1.025,1,0,0,0,0,0,0,1.005,-1,0,0,0],\n",
    "[-0.135,0,0,0,0,-0.518,-0.518,1,0,0,0,0,0,0,-1.025,1,0,0,0,0,0,0,1.005,-1,0,0],\n",
    "[-0.135,0,0,0,0,0,-0.518,-0.518,1,0,0,0,0,0,0,-1.025,1,0,0,0,0,0,0,1.005,-1,0],\n",
    "[0,0,0,0,0,0,0,-0.518,-0.518,0,0,0,0,0,0,0,-1.025,0,0,0,0,0,0,0,1.005,-1]])\n",
    "b = np.array([[100,500,100,-600,-500,200,600,-900,0]])\n",
    "\n",
    "#Se delimitan bounds debido a que por la naturaleza del problema si estos no tienen límites es irresoluble porque la máxima\n",
    "#ganancia depende de cuanto se pida de prestamos\n",
    "\n",
    "bounds_credi = (0,400)\n",
    "bounds_ganan = (0,None)\n",
    "\n",
    "#Se pone un ciclo para no tener una larga lista de límites\n",
    "\n",
    "boundsuper = []\n",
    "for i in range(17):\n",
    "    boundsuper.append(bounds_credi)\n",
    "for i in range(9):\n",
    "    boundsuper.append(bounds_ganan)"
   ]
  },
  {
   "cell_type": "code",
   "execution_count": 3,
   "metadata": {},
   "outputs": [
    {
     "data": {
      "text/plain": [
       "     con: array([-5.68434189e-14,  5.68434189e-14, -2.84217094e-14,  1.13686838e-13,\n",
       "        1.13686838e-13, -5.68434189e-14,  0.00000000e+00,  1.13686838e-13,\n",
       "        0.00000000e+00])\n",
       "     fun: -701.3286794531405\n",
       " message: 'Optimization terminated successfully.'\n",
       "     nit: 20\n",
       "   slack: array([], dtype=float64)\n",
       "  status: 0\n",
       " success: True\n",
       "       x: array([400.        ,   0.        , 252.5       ,   0.        ,\n",
       "         0.        ,   0.        ,   0.        ,   0.        ,\n",
       "       400.        ,   0.        ,   0.        , 284.795     ,\n",
       "         0.        ,   0.        ,   0.        , 333.65011095,\n",
       "         0.        , 300.        ,   0.        ,   0.        ,\n",
       "       123.290125  , 569.90657563, 318.7561085 ,   0.        ,\n",
       "       904.00863627, 701.32867945])"
      ]
     },
     "execution_count": 3,
     "metadata": {},
     "output_type": "execute_result"
    }
   ],
   "source": [
    "solo2 = opt.linprog(c,A_eq = A, b_eq = b, bounds = boundsuper, method = \"Revised simplex\")\n",
    "solo2"
   ]
  },
  {
   "cell_type": "code",
   "execution_count": 4,
   "metadata": {},
   "outputs": [
    {
     "data": {
      "text/plain": [
       "array([ 100.,  500.,  100., -600., -500.,  200.,  600., -900.,    0.])"
      ]
     },
     "execution_count": 4,
     "metadata": {},
     "output_type": "execute_result"
    }
   ],
   "source": [
    "#Corrobación de que el problema en realidad resuelve lo planteado\n",
    "A.dot(solo2.x)"
   ]
  },
  {
   "cell_type": "code",
   "execution_count": 5,
   "metadata": {},
   "outputs": [
    {
     "name": "stdout",
     "output_type": "stream",
     "text": [
      "400.0 x, 0.0 y1, 252.5 y2, 0.0 y3, 0.0 y4, 0.0 y5, 0.0 y6, 0.0 y7, 400.0 y8, 0.0 w1, 0.0 w2, 284.795 w3, 0.0 w4, 0.0 w5, 0.0 w6, 333.65 w7, 0.0 w8, 300.0 z1, 0.0 z2, 0.0 z3, 123.29 z4, 569.907 z5, 318.756 z6, 0.0 z7, 904.009 z8, 701.329 v, "
     ]
    }
   ],
   "source": [
    "a = solo2.x\n",
    "s = [\"x\"]\n",
    "for i in range(8):\n",
    "    s.append(\"y\"+str(i+1))\n",
    "for i in range(8):\n",
    "    s.append(\"w\"+str(i+1))\n",
    "for i in range(8):\n",
    "    s.append(\"z\"+str(i+1))\n",
    "s.append(\"v\")\n",
    "for i in range(26):\n",
    "    print(str(round(a[i],3))+\" \"+s[i], end = \", \")"
   ]
  },
  {
   "cell_type": "markdown",
   "metadata": {},
   "source": [
    "Se encontró una solución posible y viable."
   ]
  },
  {
   "cell_type": "markdown",
   "metadata": {},
   "source": [
    "La solución al problema consiste de lo siguiente:\n",
    "- Pedir un prestamo a 2 años por 400,000 con un interes de 1% trimestral en Q1\n",
    "- Reinvertir 300,000 de excedentes del Q1\n",
    "- Pedir un prestamo de 252,500 con un interes del 1.8% por 6 meses en Q2\n",
    "- Pedir un prestamo de 284,795 con un interes del 2.5% por 3 meses en Q3\n",
    "- Reinvertir 123,290 de excedentes del Q4\n",
    "- Reinvertir 569,907 de excedentes del Q5\n",
    "- Reinvertir 318,756 de excedentes del Q6\n",
    "- Pedir un prestamo de 333,650 con un interes del 2.5% por 3 meses en Q7\n",
    "- Pedir un prestamo de 400,000 con un interes del 1.8% por 6 meses en Q8\n",
    "- Reinvertir 904,009 de excedentes del Q9\n",
    "\n",
    "**Nota:** En cada trimestre hay que hacer los pagos correspondientes a los créditos solicitados\n",
    "\n",
    "> Las ganancias totales de la compañia en el noveno trimestre son de 701,329\n"
   ]
  },
  {
   "cell_type": "markdown",
   "metadata": {},
   "source": [
    "### 1.6 Conclusiones.\n",
    "> Mucho cuidado, las conclusiones no son cualquier cosa. Se debe concluir respecto a los objetivos planteados de acuerdo a los resultados obtenidos. "
   ]
  },
  {
   "cell_type": "markdown",
   "metadata": {},
   "source": [
    "### 1.7 Referencias.\n",
    "> Cornuejos, G. & Tütüncü, R. (2006). Chapter 3 LP Models: Asset/ Liability Cash Flow Matching. En *Optimization Methods in Finance*,Pittsburgh, EE.UU: Carnegie Mellon University (pp. 47-50). Recuperado de http://web.math.ku.dk/~rolf/CT_FinOpt.pdf"
   ]
  }
 ],
 "metadata": {
  "kernelspec": {
   "display_name": "Python 3",
   "language": "python",
   "name": "python3"
  },
  "language_info": {
   "codemirror_mode": {
    "name": "ipython",
    "version": 3
   },
   "file_extension": ".py",
   "mimetype": "text/x-python",
   "name": "python",
   "nbconvert_exporter": "python",
   "pygments_lexer": "ipython3",
   "version": "3.7.4"
  }
 },
 "nbformat": 4,
 "nbformat_minor": 2
}
