{
 "cells": [
  {
   "cell_type": "markdown",
   "metadata": {},
   "source": [
    "# Simulación de escenarios dentro de los casinos\n",
    "\n",
    "### 1.1 Trabajo\n",
    "\n",
    "Los juegos de azar han acompañado al ser humano por un largo período de tiempo pues se han visto dados desde el egipto faraónico alrededor del 2000 A.C. y registros de estos en China aproximadamente mil años antes que los egipcios. Los romanos eran unos apasionados por los dados y heredamos del latin la palabra aleatorio que hoy usamos proviene de *aleator* que se refiere a jugador así como la frase de Julio César *alea iacta est* que significa la suerte está echada. \n",
    "\n",
    "A los humanos a lo largo de historia nos ha llamado la atención este tipo de juegos mezclando la suerte y en algunos casos la estrategia y por eso la probabilidad en un principio fue diseñada para resolver precisamente los problemas de los juegos de azar siendo el ejemplo de esto el caso de Pascal y Pierre de Fermat. Se han convertido ya en toda una industria a través de los casinos físicos y ahora con el avance de la tecnología en casinos digitales que recauda una gran cantidad de dinero. \n",
    "\n",
    "Es importante que los casinos tengan una ligera ventaja en los juegos para que sean redituables por lo que un análisis adecuado de los juegos y de las condiciones marcaran la diferencia entre ganar dinero y la quiebra por ello la simulación matemática resulta ser una herramienta adecuada que permite obtener resultados sin tener que desembolsar dinero.\n",
    "\n",
    "El siguiente trabajo pone en practica los conocimientos vistos en la materia de simulación matematica y resolver un problema de simulación en donde por medio de la Simulación Monte Carlo se obtengan previsiones de las ganancias de un casino en distintos juegos clásicos propuestos.\n",
    "![](https://static3.abc.es/media/historia/2018/08/29/dados-juego-azar-k7JI--620x349@abc.jpg)\n"
   ]
  },
  {
   "cell_type": "markdown",
   "metadata": {},
   "source": [
    "### 1.2 Objetivos.\n",
    "> #### 1.2.1 Objetivo general.\n",
    "> Proyectar las ganancias de un casino tomando en cuenta los diversos juegos de azar\n",
    "> #### 1.2.2 Objetivos específicos\n",
    ">  - Formular adecuadamente el modelo que represente el problema.\n",
    ">  - Definir la simulación Monte Carlo que se adecue al problema.\n",
    ">  - Simular distintos escenarios"
   ]
  },
  {
   "cell_type": "markdown",
   "metadata": {},
   "source": [
    "### 1.4 Solución del problema\n",
    "![](https://cdn.diferenciador.com/imagenes/diferencia-entre-suerte-y-azar-og.jpg)\n",
    "\n",
    "#### 1.4.1 Planteamiento del problema"
   ]
  },
  {
   "cell_type": "markdown",
   "metadata": {},
   "source": [
    "### 1.5 Visualización de la solución \n"
   ]
  },
  {
   "cell_type": "markdown",
   "metadata": {},
   "source": [
    "### 1.6 Conclusiones.\n",
    "Se cumplió el objetivo general "
   ]
  },
  {
   "cell_type": "markdown",
   "metadata": {},
   "source": [
    "### 1.7 Referencias.\n",
    "> ABC Historia. (31 de Agosto 2018). El azar y el vicio por el juego de los dados, la gran adicción que obnubiló a Octavio Augusto.ABC. Recuperado de https://www.abc.es/historia/abci-azar-y-vicio-juego-dados-gran-adiccion-obnubilo-octavio-augusto-201808310036_noticia.html?ref=https:%2F%2Fwww.google.com%2F#disqus_thread   \n",
    "> Restrepo B, Luis F, & González L, Julián (2003). La Historia de la Probabilidad. Revista Colombiana de Ciencias Pecuarias, 16(1),83-87.[fecha de Consulta 9 de Noviembre de 2020]. ISSN: 0120-0690. Disponible en:   https://www.redalyc.org/articulo.oa?id=2950/295026121011"
   ]
  }
 ],
 "metadata": {
  "kernelspec": {
   "display_name": "Python 3",
   "language": "python",
   "name": "python3"
  },
  "language_info": {
   "codemirror_mode": {
    "name": "ipython",
    "version": 3
   },
   "file_extension": ".py",
   "mimetype": "text/x-python",
   "name": "python",
   "nbconvert_exporter": "python",
   "pygments_lexer": "ipython3",
   "version": "3.7.4"
  }
 },
 "nbformat": 4,
 "nbformat_minor": 2
}
