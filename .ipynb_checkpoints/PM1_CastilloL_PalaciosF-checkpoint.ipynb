{
 "cells": [
  {
   "cell_type": "markdown",
   "metadata": {},
   "source": [
    "### 1.1 Título del trabajo.\n",
    "> Debe describir el trabajo.\n",
    "\n",
    "### 1.2 Objetivos.\n",
    "> - Se refieren a los propósitos por los cuales se hace el trabajo.\n",
    "> - Deben ser concretos, evaluables y verificables.\n",
    "> - Deben ser escritos en infinitivo.\n",
    "> #### 1.1 Objetivo general.\n",
    ">  - Fin último de estudio. Se formula atendiendo el propósito global del trabajo. No presenta detalles.\n",
    ">  - Se orienta a la totalidad del trabajo. Tiene que ver con el título del trabajo.\n",
    "> #### 1.2 Objetivos específicos\n",
    ">  - De forma detallada describen cada una de los componentes del trabajo.\n",
    ">  - En conjunto garantizan la consecución del objetivo general."
   ]
  },
  {
   "cell_type": "markdown",
   "metadata": {},
   "source": [
    "### 1.3 Modelo que representa el problema.\n",
    "> - Se debe incluir la función a optimizar y las restricciones (en caso de que existan).\n",
    "> - Deducción del modelo. Explicación detallada de las ecuaciones de acuerdo al problema que se quiera resolver o modelo que se quiera representar.\n",
    "> - ¿Qué situación representa el modelo? ¿Cuáles son las limitaciones fundamentales?\n",
    "> - Significado y valor de los parámetros (constantes que aparezcan en el modelo)."
   ]
  },
  {
   "cell_type": "markdown",
   "metadata": {},
   "source": [
    "### Variables de decisión\n",
    "Para las variables de decisión se escogió denotarlas de la siguiente manera:  \n",
    "$x$ la cantidad de dinero pedido a través del prestamo de 2 años  \n",
    "$y_i$ la cantidad de dinero pedido a traves del instrumento de 6 meses pedido en el trimestre $i$    \n",
    "$w_i$ la cantidad de dinero pedido a traves del intrumento ded 3 meses pedido en el trimestre $i$  \n",
    "$z_i$ la cantidad de dinero excedente reinvertido en el mes $i$  \n",
    "$v$ la riqueza de la compañia en el 8vo trimestre  "
   ]
  },
  {
   "cell_type": "markdown",
   "metadata": {},
   "source": [
    "### Función objetivo\n",
    "Se desea obtimizar la riqueza de la compañía en el ultimo trimestre de los flujos presentados  \n",
    "$$\\max_{v}$$"
   ]
  },
  {
   "cell_type": "markdown",
   "metadata": {},
   "source": [
    "### Flujos de efectivo / restricciones\n",
    "**Q1**\n",
    "$$x+y_1+w_1-z_1=100$$\n",
    "**Q2**  \n",
    "$$y_2+w_2-0.135x-0.518y_1-1.025w_1-z_2+1.005z_1=500$$\n",
    "**Q3**\n",
    "$$y_3+w_3-0.135x-0.518y_1-0.518y_2-1.025w_2-z_3+1.005z_2=100$$\n",
    "**Q4**\n",
    "$$y_4+w_4-0.135x--0.518y_2-0.518y_3-1.025w_3-z_4+1.005z_3=-600$$\n",
    "**Q5**  \n",
    "$$y_5+w_5-0.135x-0.518y_3-0.518y_4-1.025w_4-z_5+1.005z_4=-500$$\n",
    "**Q6**  \n",
    "$$y_6+w_6-0.135x-0.518y_4-0.518y_5-1.025w_5-z_6+1.005z_5=200$$\n",
    "**Q7**  \n",
    "$$y_7+w_7-0.135x-0.518y_5-0.518y_6-1.025w_6-z_7+1.005z_6=600$$\n",
    "**Q8**  \n",
    "$$y_8+w_8-0.135x-0.518y_6-0.518y_7-1.025w_7-v+1.005z_7=-900$$\n",
    "\n",
    "\n",
    "De forma matricial el problema queda de la siguiente forma: \n",
    "$$\\left[\\begin{array}{cc}1 & 1 & 0 & 0 & 0 & 0 & 0 & 0 & 0 & 1 & 0 & 0 & 0 & 0 & 0 & 0 & 0 & -1 & 0 & 0 & 0 & 0 & 0 & 0 & 0\\\\\n",
    "-0.135 & -0.518 & 1 & 0 & 0 & 0 & 0 & 0 & 0 & -1.025 & 1 & 0 & 0 & 0 & 0 & 0 & 0 & 1.005 & -1 & 0 & 0 & 0 & 0 & 0 & 0\\\\\n",
    "-0.135 & -0.518 & -0.518 & 1 & 0 & 0 & 0 & 0 & 0 & 0 & -1.025 & 1 & 0 & 0 & 0 & 0 & 0 & 0 & 1.005 & -1 & 0 & 0 & 0 & 0 & 0\\\\\n",
    "-0.135 & 0 & -0.518 & -0.518 & 1 & 0 & 0 & 0 & 0 & 0 & 0 & -1.025 & 1 & 0 & 0 & 0 & 0 & 0 & 0 & 1.005 & -1 & 0 & 0 & 0 & 0\\\\\n",
    "-0.135 & 0 & 0 & -0.518 & -0.518 & 1 & 0 & 0 & 0 & 0 & 0 & 0 & -1.025 & 1 & 0 & 0 & 0 & 0 & 0 & 0 & 1.005 & -1 & 0 & 0 & 0\\\\\n",
    "-0.135 & 0 & 0 & 0 & -0.518 & -0.518 & 1 & 0 & 0 & 0 & 0 & 0 & 0 & -1.025 & 1 & 0 & 0 & 0 & 0 & 0 & 0 & 1.005 & -1 & 0 & 0\\\\\n",
    "-0.135 & 0 & 0 & 0 & 0 & -0.518 & -0.518 & 1 & 0 & 0 & 0 & 0 & 0 & 0 & -1.025 & 1 & 0 & 0 & 0 & 0 & 0 & 0 & 1.005 & -1 & 0\\\\\n",
    "-0.135 & 0 & 0 & 0 & 0 & 0 & -0.518 & -0.518 & 1 & 0 & 0 & 0 & 0 & 0 & 0 & -1.025 & 1 & 0 & 0 & 0 & 0 & 0 & 0 & 1.005 &-1 \\end{array}\\right] \\left[\\begin{array}{cc}x\\\\y_1\\\\y_2\\\\y_3\\\\y_4\\\\y_5\\\\y_6\\\\y_7\\\\y_8\\\\w_1\\\\w_2\\\\w_3\\\\w_4\\\\w_5\\\\w_6\\\\w_7\\\\w_8\\\\z_1\\\\z_2\\\\z_3\\\\z_4\\\\z_5\\\\z_6\\\\z_7\\\\v\\end{array}\\right]=\\left[\\begin{array}{cc}100\\\\500\\\\100\\\\-600\\\\-500\\\\200\\\\600\\\\-900\\end{array}\\right]$$\n"
   ]
  },
  {
   "cell_type": "markdown",
   "metadata": {},
   "source": [
    "### 1.4 Solución del problema de optimización.\n",
    "> - Se debe resolver el problema de optimización.\n",
    "> - ¿Condujo el algoritmo de optimización a una solución factible?"
   ]
  },
  {
   "cell_type": "code",
   "execution_count": null,
   "metadata": {},
   "outputs": [],
   "source": []
  },
  {
   "cell_type": "markdown",
   "metadata": {},
   "source": [
    "### 1.6 Conclusiones.\n",
    "> Mucho cuidado, las conclusiones no son cualquier cosa. Se debe concluir respecto a los objetivos planteados de acuerdo a los resultados obtenidos. "
   ]
  },
  {
   "cell_type": "markdown",
   "metadata": {},
   "source": [
    "### 1.7 Referencias.\n",
    "> Cornuejos, G. & Tütüncü, R. (2006). Chapter 3 LP Models: Asset/ Liability Cash Flow Matching. En *Optimization Methods in Finance*,Pittsburgh, EE.UU: Carnegie Mellon University (pp. 47-50). Recuperado de http://web.math.ku.dk/~rolf/CT_FinOpt.pdf"
   ]
  }
 ],
 "metadata": {
  "kernelspec": {
   "display_name": "Python 3",
   "language": "python",
   "name": "python3"
  },
  "language_info": {
   "codemirror_mode": {
    "name": "ipython",
    "version": 3
   },
   "file_extension": ".py",
   "mimetype": "text/x-python",
   "name": "python",
   "nbconvert_exporter": "python",
   "pygments_lexer": "ipython3",
   "version": "3.7.4"
  }
 },
 "nbformat": 4,
 "nbformat_minor": 2
}
