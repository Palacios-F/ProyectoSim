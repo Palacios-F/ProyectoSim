{
 "cells": [
  {
   "cell_type": "markdown",
   "metadata": {},
   "source": [
    "# Simulación de escenarios dentro de los casinos\n",
    "\n",
    "### 1.1 Trabajo\n",
    "\n",
    "Los juegos de azar han acompañado al ser humano por un largo período de tiempo pues se han visto dados desde el egipto faraónico alrededor del 2000 A.C. y registros de estos en China aproximadamente mil años antes que los egipcios. Los romanos eran unos apasionados por los dados y heredamos del latin la palabra aleatorio que hoy usamos proviene de *aleator* que se refiere a jugador así como la frase de Julio César *alea iacta est* que significa la suerte está echada. \n",
    "\n",
    "A los humanos a lo largo de historia nos ha llamado la atención este tipo de juegos mezclando la suerte y en algunos casos la estrategia y por eso la probabilidad en un principio fue diseñada para resolver precisamente los problemas de los juegos de azar siendo el ejemplo de esto el caso de Pascal y Pierre de Fermat. Se han convertido ya en toda una industria a través de los casinos físicos y ahora con el avance de la tecnología en casinos digitales que recauda una gran cantidad de dinero. \n",
    "\n",
    "Es importante que los casinos tengan una ligera ventaja en los juegos para que sean redituables por lo que un análisis adecuado de los juegos y de las condiciones marcaran la diferencia entre ganar dinero y la quiebra por ello la simulación matemática resulta ser una herramienta adecuada que permite obtener resultados sin tener que desembolsar dinero.\n",
    "\n",
    "El siguiente trabajo pone en practica los conocimientos vistos en la materia de simulación matematica y resolver un problema de simulación en donde por medio de la Simulación Monte Carlo se obtengan previsiones de las ganancias de un casino en distintos juegos clásicos propuestos.\n",
    "\n",
    "### 1.2 Objetivos.\n",
    "> #### 1.1 Objetivo general.\n",
    "> Encontrar la solución que maximize la riqueza de la compañia\n",
    "> #### 1.2 Objetivos específicos\n",
    ">  - Formular adecuadamente el modelo que represente el problema.\n",
    ">  - Definir el problema de forma matricial.\n",
    ">  - Utilizar las librerias de Python para encontrar la solución óptima."
   ]
  },
  {
   "cell_type": "markdown",
   "metadata": {},
   "source": [
    "### 1.4 Solución del problema\n"
   ]
  },
  {
   "cell_type": "markdown",
   "metadata": {},
   "source": [
    "### 1.5 Visualización de la solución \n"
   ]
  },
  {
   "cell_type": "markdown",
   "metadata": {},
   "source": [
    "### 1.6 Conclusiones.\n",
    "Se cumplió el objetivo general "
   ]
  },
  {
   "cell_type": "markdown",
   "metadata": {},
   "source": [
    "### 1.7 Referencias.\n",
    "> Cornuejos, G. & Tütüncü, R. (2006). Chapter 3 LP Models: Asset/ Liability Cash Flow Matching. En *Optimization Methods in Finance*,Pittsburgh, EE.UU: Carnegie Mellon University (pp. 47-50). Recuperado de http://web.math.ku.dk/~rolf/CT_FinOpt.pdf"
   ]
  }
 ],
 "metadata": {
  "kernelspec": {
   "display_name": "Python 3",
   "language": "python",
   "name": "python3"
  },
  "language_info": {
   "codemirror_mode": {
    "name": "ipython",
    "version": 3
   },
   "file_extension": ".py",
   "mimetype": "text/x-python",
   "name": "python",
   "nbconvert_exporter": "python",
   "pygments_lexer": "ipython3",
   "version": "3.7.4"
  }
 },
 "nbformat": 4,
 "nbformat_minor": 2
}
